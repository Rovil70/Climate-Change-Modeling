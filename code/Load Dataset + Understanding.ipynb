{
 "cells": [
  {
   "cell_type": "markdown",
   "id": "0a2409dd",
   "metadata": {},
   "source": [
    "**Load Dataset**"
   ]
  },
  {
   "cell_type": "code",
   "execution_count": 2,
   "id": "0781cd5a",
   "metadata": {},
   "outputs": [
    {
     "data": {
      "text/html": [
       "<div>\n",
       "<style scoped>\n",
       "    .dataframe tbody tr th:only-of-type {\n",
       "        vertical-align: middle;\n",
       "    }\n",
       "\n",
       "    .dataframe tbody tr th {\n",
       "        vertical-align: top;\n",
       "    }\n",
       "\n",
       "    .dataframe thead th {\n",
       "        text-align: right;\n",
       "    }\n",
       "</style>\n",
       "<table border=\"1\" class=\"dataframe\">\n",
       "  <thead>\n",
       "    <tr style=\"text-align: right;\">\n",
       "      <th></th>\n",
       "      <th>Year</th>\n",
       "      <th>Country</th>\n",
       "      <th>Avg Temperature (°C)</th>\n",
       "      <th>CO2 Emissions (Tons/Capita)</th>\n",
       "      <th>Sea Level Rise (mm)</th>\n",
       "      <th>Rainfall (mm)</th>\n",
       "      <th>Population</th>\n",
       "      <th>Renewable Energy (%)</th>\n",
       "      <th>Extreme Weather Events</th>\n",
       "      <th>Forest Area (%)</th>\n",
       "    </tr>\n",
       "  </thead>\n",
       "  <tbody>\n",
       "    <tr>\n",
       "      <th>0</th>\n",
       "      <td>2006</td>\n",
       "      <td>UK</td>\n",
       "      <td>8.9</td>\n",
       "      <td>9.3</td>\n",
       "      <td>3.1</td>\n",
       "      <td>1441</td>\n",
       "      <td>530911230</td>\n",
       "      <td>20.4</td>\n",
       "      <td>14</td>\n",
       "      <td>59.8</td>\n",
       "    </tr>\n",
       "    <tr>\n",
       "      <th>1</th>\n",
       "      <td>2019</td>\n",
       "      <td>USA</td>\n",
       "      <td>31.0</td>\n",
       "      <td>4.8</td>\n",
       "      <td>4.2</td>\n",
       "      <td>2407</td>\n",
       "      <td>107364344</td>\n",
       "      <td>49.2</td>\n",
       "      <td>8</td>\n",
       "      <td>31.0</td>\n",
       "    </tr>\n",
       "    <tr>\n",
       "      <th>2</th>\n",
       "      <td>2014</td>\n",
       "      <td>France</td>\n",
       "      <td>33.9</td>\n",
       "      <td>2.8</td>\n",
       "      <td>2.2</td>\n",
       "      <td>1241</td>\n",
       "      <td>441101758</td>\n",
       "      <td>33.3</td>\n",
       "      <td>9</td>\n",
       "      <td>35.5</td>\n",
       "    </tr>\n",
       "    <tr>\n",
       "      <th>3</th>\n",
       "      <td>2010</td>\n",
       "      <td>Argentina</td>\n",
       "      <td>5.9</td>\n",
       "      <td>1.8</td>\n",
       "      <td>3.2</td>\n",
       "      <td>1892</td>\n",
       "      <td>1069669579</td>\n",
       "      <td>23.7</td>\n",
       "      <td>7</td>\n",
       "      <td>17.7</td>\n",
       "    </tr>\n",
       "    <tr>\n",
       "      <th>4</th>\n",
       "      <td>2007</td>\n",
       "      <td>Germany</td>\n",
       "      <td>26.9</td>\n",
       "      <td>5.6</td>\n",
       "      <td>2.4</td>\n",
       "      <td>1743</td>\n",
       "      <td>124079175</td>\n",
       "      <td>12.5</td>\n",
       "      <td>4</td>\n",
       "      <td>17.4</td>\n",
       "    </tr>\n",
       "  </tbody>\n",
       "</table>\n",
       "</div>"
      ],
      "text/plain": [
       "   Year    Country  Avg Temperature (°C)  CO2 Emissions (Tons/Capita)  \\\n",
       "0  2006         UK                   8.9                          9.3   \n",
       "1  2019        USA                  31.0                          4.8   \n",
       "2  2014     France                  33.9                          2.8   \n",
       "3  2010  Argentina                   5.9                          1.8   \n",
       "4  2007    Germany                  26.9                          5.6   \n",
       "\n",
       "   Sea Level Rise (mm)  Rainfall (mm)  Population  Renewable Energy (%)  \\\n",
       "0                  3.1           1441   530911230                  20.4   \n",
       "1                  4.2           2407   107364344                  49.2   \n",
       "2                  2.2           1241   441101758                  33.3   \n",
       "3                  3.2           1892  1069669579                  23.7   \n",
       "4                  2.4           1743   124079175                  12.5   \n",
       "\n",
       "   Extreme Weather Events  Forest Area (%)  \n",
       "0                      14             59.8  \n",
       "1                       8             31.0  \n",
       "2                       9             35.5  \n",
       "3                       7             17.7  \n",
       "4                       4             17.4  "
      ]
     },
     "execution_count": 2,
     "metadata": {},
     "output_type": "execute_result"
    }
   ],
   "source": [
    "# Import libraries\n",
    "import pandas as pd\n",
    "import numpy as np\n",
    "import warnings\n",
    "warnings.filterwarnings(\"ignore\")\n",
    "df=pd.read_csv(r\"D:\\Unified Mentor Intership\\Data Science projects\\Climate Change Modeling\\Data\\climate_change_dataset.csv\")\n",
    "df.head()"
   ]
  },
  {
   "cell_type": "code",
   "execution_count": 4,
   "id": "48d6cf71",
   "metadata": {},
   "outputs": [
    {
     "data": {
      "text/plain": [
       "(1000, 10)"
      ]
     },
     "execution_count": 4,
     "metadata": {},
     "output_type": "execute_result"
    }
   ],
   "source": [
    "df.shape"
   ]
  },
  {
   "cell_type": "code",
   "execution_count": 5,
   "id": "c7770d8d",
   "metadata": {},
   "outputs": [
    {
     "data": {
      "text/plain": [
       "Index(['Year', 'Country', 'Avg Temperature (°C)',\n",
       "       'CO2 Emissions (Tons/Capita)', 'Sea Level Rise (mm)', 'Rainfall (mm)',\n",
       "       'Population', 'Renewable Energy (%)', 'Extreme Weather Events',\n",
       "       'Forest Area (%)'],\n",
       "      dtype='object')"
      ]
     },
     "execution_count": 5,
     "metadata": {},
     "output_type": "execute_result"
    }
   ],
   "source": [
    "df.columns"
   ]
  }
 ],
 "metadata": {
  "kernelspec": {
   "display_name": "base",
   "language": "python",
   "name": "python3"
  },
  "language_info": {
   "codemirror_mode": {
    "name": "ipython",
    "version": 3
   },
   "file_extension": ".py",
   "mimetype": "text/x-python",
   "name": "python",
   "nbconvert_exporter": "python",
   "pygments_lexer": "ipython3",
   "version": "3.12.7"
  }
 },
 "nbformat": 4,
 "nbformat_minor": 5
}
