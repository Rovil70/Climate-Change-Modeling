{
 "cells": [
  {
   "cell_type": "markdown",
   "id": "c32d5771",
   "metadata": {},
   "source": [
    "Import Libraries"
   ]
  },
  {
   "cell_type": "code",
   "execution_count": 25,
   "id": "904cf5b1",
   "metadata": {},
   "outputs": [],
   "source": [
    "from sklearn.model_selection import train_test_split\n",
    "from sklearn.linear_model import LinearRegression\n",
    "from sklearn.ensemble import RandomForestRegressor\n",
    "from sklearn.metrics import mean_squared_error, r2_score\n"
   ]
  },
  {
   "cell_type": "code",
   "execution_count": 26,
   "id": "9cbc00a3",
   "metadata": {},
   "outputs": [
    {
     "data": {
      "text/html": [
       "<div>\n",
       "<style scoped>\n",
       "    .dataframe tbody tr th:only-of-type {\n",
       "        vertical-align: middle;\n",
       "    }\n",
       "\n",
       "    .dataframe tbody tr th {\n",
       "        vertical-align: top;\n",
       "    }\n",
       "\n",
       "    .dataframe thead th {\n",
       "        text-align: right;\n",
       "    }\n",
       "</style>\n",
       "<table border=\"1\" class=\"dataframe\">\n",
       "  <thead>\n",
       "    <tr style=\"text-align: right;\">\n",
       "      <th></th>\n",
       "      <th>CO2 Emissions (Tons/Capita)</th>\n",
       "      <th>Sea Level Rise (mm)</th>\n",
       "      <th>Forest Area (%)</th>\n",
       "      <th>Renewable Energy (%)</th>\n",
       "      <th>Extreme Weather Events</th>\n",
       "      <th>Year</th>\n",
       "      <th>Country_Australia</th>\n",
       "      <th>Country_Brazil</th>\n",
       "      <th>Country_Canada</th>\n",
       "      <th>Country_China</th>\n",
       "      <th>...</th>\n",
       "      <th>Country_Germany</th>\n",
       "      <th>Country_India</th>\n",
       "      <th>Country_Indonesia</th>\n",
       "      <th>Country_Japan</th>\n",
       "      <th>Country_Mexico</th>\n",
       "      <th>Country_Russia</th>\n",
       "      <th>Country_South Africa</th>\n",
       "      <th>Country_UK</th>\n",
       "      <th>Country_USA</th>\n",
       "      <th>Avg Temperature (°C)</th>\n",
       "    </tr>\n",
       "  </thead>\n",
       "  <tbody>\n",
       "    <tr>\n",
       "      <th>0</th>\n",
       "      <td>9.3</td>\n",
       "      <td>3.1</td>\n",
       "      <td>59.8</td>\n",
       "      <td>20.4</td>\n",
       "      <td>14</td>\n",
       "      <td>2006</td>\n",
       "      <td>False</td>\n",
       "      <td>False</td>\n",
       "      <td>False</td>\n",
       "      <td>False</td>\n",
       "      <td>...</td>\n",
       "      <td>False</td>\n",
       "      <td>False</td>\n",
       "      <td>False</td>\n",
       "      <td>False</td>\n",
       "      <td>False</td>\n",
       "      <td>False</td>\n",
       "      <td>False</td>\n",
       "      <td>True</td>\n",
       "      <td>False</td>\n",
       "      <td>8.9</td>\n",
       "    </tr>\n",
       "    <tr>\n",
       "      <th>1</th>\n",
       "      <td>4.8</td>\n",
       "      <td>4.2</td>\n",
       "      <td>31.0</td>\n",
       "      <td>49.2</td>\n",
       "      <td>8</td>\n",
       "      <td>2019</td>\n",
       "      <td>False</td>\n",
       "      <td>False</td>\n",
       "      <td>False</td>\n",
       "      <td>False</td>\n",
       "      <td>...</td>\n",
       "      <td>False</td>\n",
       "      <td>False</td>\n",
       "      <td>False</td>\n",
       "      <td>False</td>\n",
       "      <td>False</td>\n",
       "      <td>False</td>\n",
       "      <td>False</td>\n",
       "      <td>False</td>\n",
       "      <td>True</td>\n",
       "      <td>31.0</td>\n",
       "    </tr>\n",
       "    <tr>\n",
       "      <th>2</th>\n",
       "      <td>2.8</td>\n",
       "      <td>2.2</td>\n",
       "      <td>35.5</td>\n",
       "      <td>33.3</td>\n",
       "      <td>9</td>\n",
       "      <td>2014</td>\n",
       "      <td>False</td>\n",
       "      <td>False</td>\n",
       "      <td>False</td>\n",
       "      <td>False</td>\n",
       "      <td>...</td>\n",
       "      <td>False</td>\n",
       "      <td>False</td>\n",
       "      <td>False</td>\n",
       "      <td>False</td>\n",
       "      <td>False</td>\n",
       "      <td>False</td>\n",
       "      <td>False</td>\n",
       "      <td>False</td>\n",
       "      <td>False</td>\n",
       "      <td>33.9</td>\n",
       "    </tr>\n",
       "    <tr>\n",
       "      <th>3</th>\n",
       "      <td>1.8</td>\n",
       "      <td>3.2</td>\n",
       "      <td>17.7</td>\n",
       "      <td>23.7</td>\n",
       "      <td>7</td>\n",
       "      <td>2010</td>\n",
       "      <td>False</td>\n",
       "      <td>False</td>\n",
       "      <td>False</td>\n",
       "      <td>False</td>\n",
       "      <td>...</td>\n",
       "      <td>False</td>\n",
       "      <td>False</td>\n",
       "      <td>False</td>\n",
       "      <td>False</td>\n",
       "      <td>False</td>\n",
       "      <td>False</td>\n",
       "      <td>False</td>\n",
       "      <td>False</td>\n",
       "      <td>False</td>\n",
       "      <td>5.9</td>\n",
       "    </tr>\n",
       "    <tr>\n",
       "      <th>4</th>\n",
       "      <td>5.6</td>\n",
       "      <td>2.4</td>\n",
       "      <td>17.4</td>\n",
       "      <td>12.5</td>\n",
       "      <td>4</td>\n",
       "      <td>2007</td>\n",
       "      <td>False</td>\n",
       "      <td>False</td>\n",
       "      <td>False</td>\n",
       "      <td>False</td>\n",
       "      <td>...</td>\n",
       "      <td>True</td>\n",
       "      <td>False</td>\n",
       "      <td>False</td>\n",
       "      <td>False</td>\n",
       "      <td>False</td>\n",
       "      <td>False</td>\n",
       "      <td>False</td>\n",
       "      <td>False</td>\n",
       "      <td>False</td>\n",
       "      <td>26.9</td>\n",
       "    </tr>\n",
       "  </tbody>\n",
       "</table>\n",
       "<p>5 rows × 21 columns</p>\n",
       "</div>"
      ],
      "text/plain": [
       "   CO2 Emissions (Tons/Capita)  Sea Level Rise (mm)  Forest Area (%)  \\\n",
       "0                          9.3                  3.1             59.8   \n",
       "1                          4.8                  4.2             31.0   \n",
       "2                          2.8                  2.2             35.5   \n",
       "3                          1.8                  3.2             17.7   \n",
       "4                          5.6                  2.4             17.4   \n",
       "\n",
       "   Renewable Energy (%)  Extreme Weather Events  Year  Country_Australia  \\\n",
       "0                  20.4                      14  2006              False   \n",
       "1                  49.2                       8  2019              False   \n",
       "2                  33.3                       9  2014              False   \n",
       "3                  23.7                       7  2010              False   \n",
       "4                  12.5                       4  2007              False   \n",
       "\n",
       "   Country_Brazil  Country_Canada  Country_China  ...  Country_Germany  \\\n",
       "0           False           False          False  ...            False   \n",
       "1           False           False          False  ...            False   \n",
       "2           False           False          False  ...            False   \n",
       "3           False           False          False  ...            False   \n",
       "4           False           False          False  ...             True   \n",
       "\n",
       "   Country_India  Country_Indonesia  Country_Japan  Country_Mexico  \\\n",
       "0          False              False          False           False   \n",
       "1          False              False          False           False   \n",
       "2          False              False          False           False   \n",
       "3          False              False          False           False   \n",
       "4          False              False          False           False   \n",
       "\n",
       "   Country_Russia  Country_South Africa  Country_UK  Country_USA  \\\n",
       "0           False                 False        True        False   \n",
       "1           False                 False       False         True   \n",
       "2           False                 False       False        False   \n",
       "3           False                 False       False        False   \n",
       "4           False                 False       False        False   \n",
       "\n",
       "   Avg Temperature (°C)  \n",
       "0                   8.9  \n",
       "1                  31.0  \n",
       "2                  33.9  \n",
       "3                   5.9  \n",
       "4                  26.9  \n",
       "\n",
       "[5 rows x 21 columns]"
      ]
     },
     "execution_count": 26,
     "metadata": {},
     "output_type": "execute_result"
    }
   ],
   "source": [
    "import pandas as pd\n",
    "df=pd.read_csv(r\"D:\\Unified Mentor Intership\\Data Science projects\\Climate Change Modeling\\Data\\climate_feature_engineered.csv\")\n",
    "df.head()"
   ]
  },
  {
   "cell_type": "markdown",
   "id": "6d966511",
   "metadata": {},
   "source": [
    "Split Dataset (X & y)"
   ]
  },
  {
   "cell_type": "code",
   "execution_count": 27,
   "id": "7f9897ae",
   "metadata": {},
   "outputs": [],
   "source": [
    "# Separate features and target\n",
    "X = df.drop('Avg Temperature (°C)', axis=1)\n",
    "y = df['Avg Temperature (°C)']\n",
    "\n",
    "# Train-test split\n",
    "X_train, X_test, y_train, y_test = train_test_split(X, y, test_size=0.2, random_state=42)\n"
   ]
  },
  {
   "cell_type": "markdown",
   "id": "3de98131",
   "metadata": {},
   "source": [
    "Train Models"
   ]
  },
  {
   "cell_type": "markdown",
   "id": "a0d36adb",
   "metadata": {},
   "source": [
    "✅ (a) Linear Regression"
   ]
  },
  {
   "cell_type": "code",
   "execution_count": 28,
   "id": "6a20c055",
   "metadata": {},
   "outputs": [],
   "source": [
    "lr_model = LinearRegression()\n",
    "lr_model.fit(X_train, y_train)\n",
    "lr_preds = lr_model.predict(X_test)\n"
   ]
  },
  {
   "cell_type": "markdown",
   "id": "057ce58b",
   "metadata": {},
   "source": [
    "✅ (b) Random Forest Regressor"
   ]
  },
  {
   "cell_type": "code",
   "execution_count": 29,
   "id": "d116b65b",
   "metadata": {},
   "outputs": [],
   "source": [
    "rf_model = RandomForestRegressor(random_state=42)\n",
    "rf_model.fit(X_train, y_train)\n",
    "rf_preds = rf_model.predict(X_test)\n"
   ]
  },
  {
   "cell_type": "markdown",
   "id": "8123f926",
   "metadata": {},
   "source": [
    " Evaluate Models"
   ]
  },
  {
   "cell_type": "code",
   "execution_count": 30,
   "id": "efdba3b7",
   "metadata": {},
   "outputs": [
    {
     "name": "stdout",
     "output_type": "stream",
     "text": [
      "\n",
      "Linear Regression Performance:\n",
      "Mean Squared Error: 70.0347\n",
      "R² Score: -0.0109\n",
      "\n",
      "Random Forest Regressor Performance:\n",
      "Mean Squared Error: 76.7615\n",
      "R² Score: -0.1080\n"
     ]
    }
   ],
   "source": [
    "def evaluate_model(y_true, y_pred, model_name):\n",
    "    mse = mean_squared_error(y_true, y_pred)\n",
    "    r2 = r2_score(y_true, y_pred)\n",
    "    print(f\"\\n{model_name} Performance:\")\n",
    "    print(f\"Mean Squared Error: {mse:.4f}\")\n",
    "    print(f\"R² Score: {r2:.4f}\")\n",
    "\n",
    "# Evaluate both models\n",
    "evaluate_model(y_test, lr_preds, \"Linear Regression\")\n",
    "evaluate_model(y_test, rf_preds, \"Random Forest Regressor\")\n"
   ]
  },
  {
   "cell_type": "markdown",
   "id": "a30b4e3c",
   "metadata": {},
   "source": [
    "Gradient Boosting"
   ]
  },
  {
   "cell_type": "code",
   "execution_count": 31,
   "id": "5b34057d",
   "metadata": {},
   "outputs": [
    {
     "name": "stdout",
     "output_type": "stream",
     "text": [
      "\n",
      "Gradient Boosting Regressor Performance:\n",
      "Mean Squared Error: 77.6934\n",
      "R² Score: -0.1214\n"
     ]
    }
   ],
   "source": [
    "from sklearn.ensemble import GradientBoostingRegressor\n",
    "\n",
    "gb_model = GradientBoostingRegressor(random_state=42)\n",
    "gb_model.fit(X_train, y_train)\n",
    "gb_preds = gb_model.predict(X_test)\n",
    "\n",
    "evaluate_model(y_test, gb_preds, \"Gradient Boosting Regressor\")\n"
   ]
  },
  {
   "cell_type": "markdown",
   "id": "c9f1c2b2",
   "metadata": {},
   "source": [
    "Import Required Libraries"
   ]
  },
  {
   "cell_type": "code",
   "execution_count": 32,
   "id": "4d66d539",
   "metadata": {},
   "outputs": [],
   "source": [
    "import pandas as pd\n",
    "from sklearn.model_selection import train_test_split\n",
    "from sklearn.preprocessing import StandardScaler\n",
    "from sklearn.linear_model import LogisticRegression\n",
    "from sklearn.ensemble import RandomForestClassifier\n",
    "from sklearn.metrics import classification_report, accuracy_score"
   ]
  },
  {
   "cell_type": "markdown",
   "id": "1415cb33",
   "metadata": {},
   "source": [
    "Binarize the Target Column"
   ]
  },
  {
   "cell_type": "code",
   "execution_count": 33,
   "id": "21d33253",
   "metadata": {},
   "outputs": [
    {
     "name": "stdout",
     "output_type": "stream",
     "text": [
      "count    1000.000000\n",
      "mean        7.291000\n",
      "std         4.422655\n",
      "min         0.000000\n",
      "25%         3.000000\n",
      "50%         8.000000\n",
      "75%        11.000000\n",
      "max        14.000000\n",
      "Name: Extreme Weather Events, dtype: float64\n"
     ]
    }
   ],
   "source": [
    "# Check distribution\n",
    "print(df['Extreme Weather Events'].describe())\n",
    "\n",
    "# Create binary target: 1 = High, 0 = Low\n",
    "threshold = df['Extreme Weather Events'].median()\n",
    "df['Extreme_Weather_Binary'] = (df['Extreme Weather Events'] >= threshold).astype(int)\n"
   ]
  },
  {
   "cell_type": "markdown",
   "id": "db0f3ce2",
   "metadata": {},
   "source": [
    "Prepare Features and Target"
   ]
  },
  {
   "cell_type": "code",
   "execution_count": 34,
   "id": "447b6d80",
   "metadata": {},
   "outputs": [],
   "source": [
    "X = df.drop(['Extreme Weather Events', 'Extreme_Weather_Binary', 'Avg Temperature (°C)'], axis=1)\n",
    "y = df['Extreme_Weather_Binary']\n"
   ]
  },
  {
   "cell_type": "markdown",
   "id": "8b37aeb3",
   "metadata": {},
   "source": [
    "Train-Test Split"
   ]
  },
  {
   "cell_type": "code",
   "execution_count": 35,
   "id": "c5b28855",
   "metadata": {},
   "outputs": [],
   "source": [
    "X_train, X_test, y_train, y_test = train_test_split(X, y, test_size=0.2, random_state=42)\n"
   ]
  },
  {
   "cell_type": "markdown",
   "id": "631d1aaf",
   "metadata": {},
   "source": [
    "Feature Scaling (Recommended for Logistic Regression)"
   ]
  },
  {
   "cell_type": "code",
   "execution_count": 36,
   "id": "e96c64ef",
   "metadata": {},
   "outputs": [],
   "source": [
    "scaler = StandardScaler()\n",
    "X_train_scaled = scaler.fit_transform(X_train)\n",
    "X_test_scaled = scaler.transform(X_test)\n"
   ]
  },
  {
   "cell_type": "markdown",
   "id": "2152692e",
   "metadata": {},
   "source": [
    "Train Models\n"
   ]
  },
  {
   "cell_type": "markdown",
   "id": "4271bda6",
   "metadata": {},
   "source": [
    "✅ (a) Logistic Regression"
   ]
  },
  {
   "cell_type": "code",
   "execution_count": 37,
   "id": "3077761f",
   "metadata": {},
   "outputs": [],
   "source": [
    "lr_clf = LogisticRegression()\n",
    "lr_clf.fit(X_train_scaled, y_train)\n",
    "lr_preds = lr_clf.predict(X_test_scaled)\n"
   ]
  },
  {
   "cell_type": "markdown",
   "id": "6cfd1115",
   "metadata": {},
   "source": [
    "✅ (b) Random Forest Classifier"
   ]
  },
  {
   "cell_type": "code",
   "execution_count": 38,
   "id": "a635ba95",
   "metadata": {},
   "outputs": [],
   "source": [
    "rf_clf = RandomForestClassifier(random_state=42)\n",
    "rf_clf.fit(X_train, y_train)\n",
    "rf_preds = rf_clf.predict(X_test)\n"
   ]
  },
  {
   "cell_type": "markdown",
   "id": "470638fb",
   "metadata": {},
   "source": [
    "Evaluate Models"
   ]
  },
  {
   "cell_type": "code",
   "execution_count": 39,
   "id": "d8ca3059",
   "metadata": {},
   "outputs": [
    {
     "name": "stdout",
     "output_type": "stream",
     "text": [
      "\n",
      "Logistic Regression Evaluation:\n",
      "Accuracy: 0.505\n",
      "Classification Report:\n",
      "               precision    recall  f1-score   support\n",
      "\n",
      "           0       0.41      0.50      0.45        82\n",
      "           1       0.59      0.51      0.55       118\n",
      "\n",
      "    accuracy                           0.51       200\n",
      "   macro avg       0.50      0.50      0.50       200\n",
      "weighted avg       0.52      0.51      0.51       200\n",
      "\n",
      "\n",
      "Random Forest Classifier Evaluation:\n",
      "Accuracy: 0.465\n",
      "Classification Report:\n",
      "               precision    recall  f1-score   support\n",
      "\n",
      "           0       0.38      0.48      0.42        82\n",
      "           1       0.56      0.46      0.50       118\n",
      "\n",
      "    accuracy                           0.47       200\n",
      "   macro avg       0.47      0.47      0.46       200\n",
      "weighted avg       0.48      0.47      0.47       200\n",
      "\n"
     ]
    }
   ],
   "source": [
    "def evaluate_classification(y_true, y_pred, model_name):\n",
    "    print(f\"\\n{model_name} Evaluation:\")\n",
    "    print(\"Accuracy:\", accuracy_score(y_true, y_pred))\n",
    "    print(\"Classification Report:\\n\", classification_report(y_true, y_pred))\n",
    "\n",
    "evaluate_classification(y_test, lr_preds, \"Logistic Regression\")\n",
    "evaluate_classification(y_test, rf_preds, \"Random Forest Classifier\")\n"
   ]
  }
 ],
 "metadata": {
  "kernelspec": {
   "display_name": "base",
   "language": "python",
   "name": "python3"
  },
  "language_info": {
   "codemirror_mode": {
    "name": "ipython",
    "version": 3
   },
   "file_extension": ".py",
   "mimetype": "text/x-python",
   "name": "python",
   "nbconvert_exporter": "python",
   "pygments_lexer": "ipython3",
   "version": "3.12.7"
  }
 },
 "nbformat": 4,
 "nbformat_minor": 5
}
